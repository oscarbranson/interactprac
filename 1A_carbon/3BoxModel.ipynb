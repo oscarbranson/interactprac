{
 "cells": [
  {
   "cell_type": "markdown",
   "metadata": {},
   "source": [
    "## 3-Box Model of Ocean Carbon"
   ]
  },
  {
   "cell_type": "code",
   "execution_count": 1,
   "metadata": {},
   "outputs": [],
   "source": [
    "import numpy as np\n",
    "import pandas as pd\n",
    "from scipy.optimize import minimize"
   ]
  },
  {
   "cell_type": "code",
   "execution_count": 2,
   "metadata": {},
   "outputs": [],
   "source": [
    "# model parameters\n",
    "\n",
    "# mixing\n",
    "vmix_hilat = 6.0e14  # m3 yr-1\n",
    "vmix_thermohaline = 6.3072e14  # m3 yr-1\n",
    "\n",
    "# productivity\n",
    "tau_hilat = 50\n",
    "tau_lolat = 1\n",
    "\n",
    "percent_CaCO3 = 30\n",
    "\n",
    "# ocean averages\n",
    "total_PO4 = 2.5\n",
    "total_DIC = 2225\n",
    "total_TA = 2300\n",
    "\n",
    "total_Ca = 10.2e-3  # mol kg"
   ]
  },
  {
   "cell_type": "code",
   "execution_count": 3,
   "metadata": {},
   "outputs": [],
   "source": [
    "# set up boxes\n",
    "lolat_surf = {'temp': 25.,\n",
    "              'sal': 35.,\n",
    "              'K0': .0285,\n",
    "              'K1': 1.45e-6,\n",
    "              'K2': 1.102e-9,\n",
    "              'KW': 5.982e-14,\n",
    "              'KB': 2.619e-9,\n",
    "              'KspC': 4.2658e-7,\n",
    "              'KspA': 6.45654e-7,\n",
    "              'vol': 1.31e16}\n",
    "\n",
    "hilat_surf = {'temp': 5.,\n",
    "              'sal': 35.,\n",
    "              'K0': 0.05241,\n",
    "              'K1': 9.032e-7,\n",
    "              'K2': 5.076e-10,\n",
    "              'KW': 8.412e-15,\n",
    "              'KB': 1.482e-9,\n",
    "              'KspC': 4.2658e-7,\n",
    "              'KspA': 6.45654e-7,\n",
    "              'vol': 2.97e16}\n",
    "\n",
    "deep = {'temp': 2.0,\n",
    "        'sal': 35.,\n",
    "        'K0': 0.05855,\n",
    "        'K1': 8.279e-7,\n",
    "        'K2': 4.475e-10,\n",
    "        'KW': 6.068e-15,\n",
    "        'KB': 1.349e-9,\n",
    "        'KspC': 7.76e-7,\n",
    "        'KspA': 1.2e-6,\n",
    "        'vol': 1.25e18}"
   ]
  },
  {
   "cell_type": "code",
   "execution_count": 4,
   "metadata": {},
   "outputs": [],
   "source": [
    "# carbon system approximations\n",
    "def calc_CO3(DIC, TA):\n",
    "    return TA - DIC\n",
    "\n",
    "def calc_HCO3(DIC, TA):\n",
    "    return 2 * DIC - TA\n",
    "\n",
    "def calc_pCO2(CO3, HCO3, K0, K1, K2):\n",
    "    return K2 * HCO3**2 / (K1 * K0 * CO3)\n",
    "\n",
    "def calc_H(CO3, HCO3, K2):\n",
    "    return K2 * HCO3 / CO3"
   ]
  },
  {
   "cell_type": "markdown",
   "metadata": {},
   "source": [
    "## PO<sub>4</sub> Model Equations\n",
    "\n",
    "$$\n",
    "\\begin{align}\n",
    "\\frac{d[PO_4]_{deep}}{dt} &= \\frac{v_{mix} [PO_4]_{hilat} - v_{mix} [PO_4]_{deep} + v_{thermo} [PO_4]_{hilat} - v_{thermo} [PO_4]_{deep} + \\frac{[PO_4]_{hilat} vol_{hilat}}{\\tau_{hilat}} + \\frac{[PO_4]_{lolat} vol_{lolat}}{\\tau_{lolat}}}{vol_{deep}}\\\\\n",
    "\\frac{d[PO_4]_{hilat}}{dt} &= \\frac{v_{mix} [PO_4]_{deep} - v_{mix} [PO_4]_{hilat} + v_{thermo} [PO_4]_{lolat} - v_{thermo} [PO_4]_{hilat} - \\frac{[PO_4]_{hilat} vol_{hilat}}{\\tau_{hilat}}}{vol_{hilat}} \\\\\n",
    "\\frac{d[PO_4]_{lolat}}{dt} &= \\frac{v_{thermo} [PO_4]_{deep} - v_{thermo} [PO_4]_{lolat} - \\frac{[PO_4]_{lolat} vol_{lolat}}{\\tau_{lolat}}}{vol_{lolat}} \\\\\n",
    "\\end{align}\n",
    "$$\n"
   ]
  },
  {
   "cell_type": "code",
   "execution_count": 5,
   "metadata": {},
   "outputs": [],
   "source": [
    "def dPO4_deep(PO4_deep, PO4_hilat, PO4_lolat, vmix, vthermo, tau_hilat, vol_hilat, tau_lolat, vol_lolat, vol_deep):\n",
    "    return (vmix * PO4_hilat - \n",
    "            vmix * PO4_deep + \n",
    "            vthermo * PO4_hilat - \n",
    "            vthermo * PO4_deep + \n",
    "            (PO4_hilat * vol_hilat / tau_hilat) + \n",
    "            (PO4_lolat * vol_lolat / tau_lolat)) / vol_deep\n",
    "\n",
    "def dPO4_hilat(PO4_deep, PO4_hilat, PO4_lolat, vmix, vthermo, tau_hilat, vol_hilat):\n",
    "    return (vmix * PO4_deep -\n",
    "            vmix * PO4_hilat +\n",
    "            vthermo * PO4_lolat -\n",
    "            vthermo * PO4_hilat -\n",
    "            (PO4_hilat * vol_hilat / tau_hilat)) / vol_hilat\n",
    "\n",
    "def dPO4_lolat(PO4_deep, PO4_lolat, vthermo, tau_lolat, vol_lolat):\n",
    "    return (vthermo * PO4_deep -\n",
    "            vthermo * PO4_lolat -\n",
    "            (PO4_lolat * vol_lolat / tau_lolat)) / vol_lolat"
   ]
  },
  {
   "cell_type": "code",
   "execution_count": 6,
   "metadata": {},
   "outputs": [],
   "source": [
    "def zero_fn(X, total_PO4, vmix, vthermo, tau_hilat, tau_lolat, vol_hilat, vol_lolat, vol_deep):\n",
    "    PO4_deep, PO4_hilat, PO4_lolat = X\n",
    "    \n",
    "    # calculate deltas to minimise\n",
    "    d_deep = dPO4_deep(PO4_deep, PO4_hilat, PO4_lolat, vmix, vthermo, \n",
    "                       tau_hilat, vol_hilat, tau_lolat, vol_lolat, vol_deep)\n",
    "    d_hilat = dPO4_hilat(PO4_deep, PO4_hilat, PO4_lolat, vmix, vthermo, tau_hilat, vol_hilat)\n",
    "    d_lolat = dPO4_lolat(PO4_deep, PO4_lolat, vthermo, tau_lolat, vol_lolat)\n",
    "    \n",
    "    # calculate total PO4\n",
    "    calc_total = ((PO4_deep * vol_deep + PO4_hilat * vol_hilat + PO4_lolat * vol_lolat) /\n",
    "                  (vol_deep + vol_hilat + vol_lolat))\n",
    "    # make sure it's the same as actual\n",
    "    PO4_constraint = (total_PO4 - calc_total)**2\n",
    "    \n",
    "    # return value to minimise\n",
    "    return (d_deep**2 + d_hilat**2 + d_lolat**2 + PO4_constraint)"
   ]
  },
  {
   "cell_type": "code",
   "execution_count": 7,
   "metadata": {},
   "outputs": [
    {
     "data": {
      "text/plain": [
       "array([2.56337211, 0.88358062, 0.11774838])"
      ]
     },
     "execution_count": 7,
     "metadata": {},
     "output_type": "execute_result"
    }
   ],
   "source": [
    "guess = (1, 1, 1)\n",
    "args = (total_PO4, vmix_hilat, vmix_thermohaline, tau_hilat, tau_lolat, hilat_surf['vol'], lolat_surf['vol'], deep['vol'])\n",
    "\n",
    "fit = minimize(zero_fn, guess, args=args)\n",
    "\n",
    "fit.x"
   ]
  },
  {
   "cell_type": "code",
   "execution_count": 8,
   "metadata": {},
   "outputs": [],
   "source": [
    "deep['PO4'], hilat_surf['PO4'], lolat_surf['PO4'] = fit.x"
   ]
  },
  {
   "cell_type": "markdown",
   "metadata": {},
   "source": [
    "## Expand to Carbon"
   ]
  },
  {
   "cell_type": "code",
   "execution_count": 9,
   "metadata": {},
   "outputs": [],
   "source": [
    "def calc_DIC_surf(PO4_deep, PO4_surf, percent_CaCO3, DIC_total):\n",
    "    delta_PO4 = PO4_deep - PO4_surf\n",
    "    \n",
    "    organic = 106 * delta_PO4\n",
    "    CaCO3 = 106 * percent_CaCO3 * delta_PO4 / 100\n",
    "    \n",
    "    return DIC_total - organic - CaCO3\n",
    "\n",
    "def calc_TA_surf(PO4_deep, PO4_surf, percent_CaCO3, TA_total):\n",
    "    delta_PO4 = PO4_deep - PO4_surf\n",
    "    \n",
    "    organic = 0.15 * 106 * delta_PO4\n",
    "    CaCO3 = 2 * 106 * percent_CaCO3 * delta_PO4 / 100\n",
    "    \n",
    "    return TA_total - organic - CaCO3"
   ]
  },
  {
   "cell_type": "code",
   "execution_count": 10,
   "metadata": {},
   "outputs": [],
   "source": [
    "hilat_surf['DIC'] = calc_DIC_surf(deep['PO4'], hilat_surf['PO4'], percent_CaCO3, total_DIC)\n",
    "hilat_surf['TA'] = calc_TA_surf(deep['PO4'], hilat_surf['PO4'], percent_CaCO3, total_TA)\n",
    "\n",
    "lolat_surf['DIC'] = calc_DIC_surf(deep['PO4'], lolat_surf['PO4'], percent_CaCO3, total_DIC)\n",
    "lolat_surf['TA'] = calc_TA_surf(deep['PO4'], lolat_surf['PO4'], percent_CaCO3, total_TA)\n",
    "\n",
    "deep['DIC'] = total_DIC #+ ((total_DIC - hilat_surf['DIC']) * hilat_surf['vol'] + (total_DIC - lolat_surf['DIC']) * lolat_surf['vol']) / deep['vol']\n",
    "deep['TA'] = total_TA #+ ((total_TA - hilat_surf['TA']) * hilat_surf['vol'] + (total_TA - lolat_surf['TA']) * lolat_surf['vol']) / deep['vol']"
   ]
  },
  {
   "cell_type": "code",
   "execution_count": 11,
   "metadata": {},
   "outputs": [],
   "source": [
    "for box in [hilat_surf, lolat_surf, deep]:\n",
    "    box['CO3'] = calc_CO3(box['DIC'], box['TA'])\n",
    "    box['HCO3'] = calc_HCO3(box['DIC'], box['TA'])\n",
    "    box['pCO2'] = calc_pCO2(box['CO3'], box['HCO3'], box['K0'], box['K1'], box['K2'])\n",
    "    box['H'] = calc_H(box['CO3'], box['HCO3'], box['K2'])\n",
    "    box['pH'] = -np.log10(box['H'])\n",
    "    box['Omega_C'] = box['CO3'] * 1e-6 * total_Ca / box['KspC']\n",
    "    box['Omega_A'] = box['CO3'] * 1e-6 * total_Ca / box['KspA']"
   ]
  },
  {
   "cell_type": "code",
   "execution_count": 12,
   "metadata": {},
   "outputs": [],
   "source": [
    "lolat_surf = pd.DataFrame(lolat_surf, index=[('Surface', 'lo lat')]).T"
   ]
  },
  {
   "cell_type": "code",
   "execution_count": 13,
   "metadata": {},
   "outputs": [],
   "source": [
    "hilat_surf = pd.DataFrame(hilat_surf, index=[('Surface', 'hi lat')]).T"
   ]
  },
  {
   "cell_type": "code",
   "execution_count": 14,
   "metadata": {},
   "outputs": [],
   "source": [
    "deep = pd.DataFrame(deep, index=[('Deep', '')]).T"
   ]
  },
  {
   "cell_type": "code",
   "execution_count": 15,
   "metadata": {},
   "outputs": [],
   "source": [
    "model = pd.concat([hilat_surf, lolat_surf, deep], 1)"
   ]
  },
  {
   "cell_type": "code",
   "execution_count": 16,
   "metadata": {},
   "outputs": [],
   "source": [
    "def boxmodel(vmix_hilat=6.0e14, vmix_thermohaline=6.3072e14, tau_hilat=50, tau_lolat=1, percent_CaCO3=30,\n",
    "             total_PO4=2.5, total_DIC=2225, total_TA=2300, total_Ca=10.2e-3):\n",
    "    # set up boxes\n",
    "    lolat_surf = {'temp': 25.,\n",
    "                  'sal': 35.,\n",
    "                  'K0': .0285,\n",
    "                  'K1': 1.45e-6,\n",
    "                  'K2': 1.102e-9,\n",
    "                  'KW': 5.982e-14,\n",
    "                  'KB': 2.619e-9,\n",
    "                  'KspC': 4.2658e-7,\n",
    "                  'KspA': 6.45654e-7,\n",
    "                  'vol': 1.31e16}\n",
    "\n",
    "    hilat_surf = {'temp': 5.,\n",
    "                  'sal': 35.,\n",
    "                  'K0': 0.05241,\n",
    "                  'K1': 9.032e-7,\n",
    "                  'K2': 5.076e-10,\n",
    "                  'KW': 8.412e-15,\n",
    "                  'KB': 1.482e-9,\n",
    "                  'KspC': 4.2658e-7,\n",
    "                  'KspA': 6.45654e-7,\n",
    "                  'vol': 2.97e16}\n",
    "\n",
    "    deep = {'temp': 2.0,\n",
    "            'sal': 35.,\n",
    "            'K0': 0.05855,\n",
    "            'K1': 8.279e-7,\n",
    "            'K2': 4.475e-10,\n",
    "            'KW': 6.068e-15,\n",
    "            'KB': 1.349e-9,\n",
    "            'KspC': 7.76e-7,\n",
    "            'KspA': 1.2e-6,\n",
    "            'vol': 1.25e18}\n",
    "    \n",
    "    guess = (1, 1, 1)\n",
    "    args = (total_PO4, vmix_hilat, vmix_thermohaline, tau_hilat, tau_lolat, hilat_surf['vol'], lolat_surf['vol'], deep['vol'])\n",
    "\n",
    "    fit = minimize(zero_fn, guess, args=args)\n",
    "\n",
    "    deep['PO4'], hilat_surf['PO4'], lolat_surf['PO4'] = fit.x\n",
    "    \n",
    "    hilat_surf['DIC'] = calc_DIC_surf(deep['PO4'], hilat_surf['PO4'], percent_CaCO3, total_DIC)\n",
    "    hilat_surf['TA'] = calc_TA_surf(deep['PO4'], hilat_surf['PO4'], percent_CaCO3, total_TA)\n",
    "\n",
    "    lolat_surf['DIC'] = calc_DIC_surf(deep['PO4'], lolat_surf['PO4'], percent_CaCO3, total_DIC)\n",
    "    lolat_surf['TA'] = calc_TA_surf(deep['PO4'], lolat_surf['PO4'], percent_CaCO3, total_TA)\n",
    "\n",
    "    deep['DIC'] = total_DIC #+ ((total_DIC - hilat_surf['DIC']) * hilat_surf['vol'] + (total_DIC - lolat_surf['DIC']) * lolat_surf['vol']) / deep['vol']\n",
    "    deep['TA'] = total_TA #+ ((total_TA - hilat_surf['TA']) * hilat_surf['vol'] + (total_TA - lolat_surf['TA']) * lolat_surf['vol']) / deep['vol']\n",
    "    \n",
    "    for box in [hilat_surf, lolat_surf, deep]:\n",
    "        box['CO3'] = calc_CO3(box['DIC'], box['TA'])\n",
    "        box['HCO3'] = calc_HCO3(box['DIC'], box['TA'])\n",
    "        box['pCO2'] = calc_pCO2(box['CO3'], box['HCO3'], box['K0'], box['K1'], box['K2'])\n",
    "        box['H'] = calc_H(box['CO3'], box['HCO3'], box['K2'])\n",
    "        box['pH'] = -np.log10(box['H'])\n",
    "        box['Omega_C'] = box['CO3'] * 1e-6 * total_Ca / box['KspC']\n",
    "        box['Omega_A'] = box['CO3'] * 1e-6 * total_Ca / box['KspA']\n",
    "    \n",
    "    lolat_surf = pd.DataFrame(lolat_surf, index=[('Surface', 'lo lat')]).T\n",
    "    hilat_surf = pd.DataFrame(hilat_surf, index=[('Surface', 'hi lat')]).T\n",
    "    deep = pd.DataFrame(deep, index=[('Deep', '')]).T\n",
    "    \n",
    "    return pd.concat([lolat_surf, hilat_surf, deep], 1)"
   ]
  },
  {
   "cell_type": "code",
   "execution_count": 17,
   "metadata": {},
   "outputs": [
    {
     "name": "stdout",
     "output_type": "stream",
     "text": [
      "Atmos: 448\n"
     ]
    },
    {
     "data": {
      "text/html": [
       "<div>\n",
       "<style scoped>\n",
       "    .dataframe tbody tr th:only-of-type {\n",
       "        vertical-align: middle;\n",
       "    }\n",
       "\n",
       "    .dataframe tbody tr th {\n",
       "        vertical-align: top;\n",
       "    }\n",
       "\n",
       "    .dataframe thead th {\n",
       "        text-align: right;\n",
       "    }\n",
       "</style>\n",
       "<table border=\"1\" class=\"dataframe\">\n",
       "  <thead>\n",
       "    <tr style=\"text-align: right;\">\n",
       "      <th></th>\n",
       "      <th>pCO2</th>\n",
       "      <th>pH</th>\n",
       "      <th>Omega_A</th>\n",
       "      <th>Omega_C</th>\n",
       "    </tr>\n",
       "  </thead>\n",
       "  <tbody>\n",
       "    <tr>\n",
       "      <th>(Surface, lo lat)</th>\n",
       "      <td>636.913585</td>\n",
       "      <td>7.857547</td>\n",
       "      <td>2.377765</td>\n",
       "      <td>3.598887</td>\n",
       "    </tr>\n",
       "    <tr>\n",
       "      <th>(Surface, hi lat)</th>\n",
       "      <td>259.168051</td>\n",
       "      <td>8.189954</td>\n",
       "      <td>2.359438</td>\n",
       "      <td>3.571148</td>\n",
       "    </tr>\n",
       "    <tr>\n",
       "      <th>(Deep, )</th>\n",
       "      <td>568.989057</td>\n",
       "      <td>7.891830</td>\n",
       "      <td>0.637500</td>\n",
       "      <td>0.985825</td>\n",
       "    </tr>\n",
       "  </tbody>\n",
       "</table>\n",
       "</div>"
      ],
      "text/plain": [
       "                         pCO2        pH   Omega_A   Omega_C\n",
       "(Surface, lo lat)  636.913585  7.857547  2.377765  3.598887\n",
       "(Surface, hi lat)  259.168051  8.189954  2.359438  3.571148\n",
       "(Deep, )           568.989057  7.891830  0.637500  0.985825"
      ]
     },
     "execution_count": 17,
     "metadata": {},
     "output_type": "execute_result"
    }
   ],
   "source": [
    "model = boxmodel(percent_CaCO3=30, tau_lolat=20)\n",
    "\n",
    "print('Atmos: {:.0f}'.format(model.loc['pCO2', [('Surface', 'lo lat'), ('Surface', 'hi lat')]].mean()))\n",
    "\n",
    "model.loc[['pCO2', 'pH', 'Omega_A', 'Omega_C'], :].T\n"
   ]
  }
 ],
 "metadata": {
  "kernelspec": {
   "display_name": "py3",
   "language": "python",
   "name": "py3"
  },
  "language_info": {
   "codemirror_mode": {
    "name": "ipython",
    "version": 3
   },
   "file_extension": ".py",
   "mimetype": "text/x-python",
   "name": "python",
   "nbconvert_exporter": "python",
   "pygments_lexer": "ipython3",
   "version": "3.8.5"
  }
 },
 "nbformat": 4,
 "nbformat_minor": 4
}
