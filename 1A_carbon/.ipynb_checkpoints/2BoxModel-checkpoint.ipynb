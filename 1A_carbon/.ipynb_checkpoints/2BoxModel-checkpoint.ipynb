{
 "cells": [
  {
   "cell_type": "markdown",
   "metadata": {},
   "source": [
    "## 2-Box Model of Ocean Carbon"
   ]
  },
  {
   "cell_type": "code",
   "execution_count": 2,
   "metadata": {},
   "outputs": [],
   "source": [
    "import numpy as np\n",
    "import pandas as pd\n",
    "from scipy.optimize import minimize"
   ]
  },
  {
   "cell_type": "code",
   "execution_count": 17,
   "metadata": {},
   "outputs": [],
   "source": [
    "# model parameters\n",
    "\n",
    "# mixing\n",
    "vmix = 6.3072e14  # m3 yr-1\n",
    "\n",
    "# productivity\n",
    "tau = 5\n",
    "\n",
    "percent_CaCO3 = 30\n",
    "\n",
    "# ocean averages\n",
    "total_PO4 = 2.5\n",
    "total_DIC = 2225\n",
    "total_TA = 2300\n",
    "\n",
    "total_Ca = 10.2e-3  # mol kg"
   ]
  },
  {
   "cell_type": "code",
   "execution_count": 18,
   "metadata": {},
   "outputs": [],
   "source": [
    "# set up boxes\n",
    "surf = {'temp': 25.,\n",
    "        'sal': 35.,\n",
    "        'K0': .0285,\n",
    "        'K1': 1.45e-6,\n",
    "        'K2': 1.102e-9,\n",
    "        'KW': 5.982e-14,\n",
    "        'KB': 2.619e-9,\n",
    "        'KspC': 4.2658e-7,\n",
    "        'KspA': 6.45654e-7,\n",
    "        'vol': 1.31e16}\n",
    "\n",
    "deep = {'temp': 2.0,\n",
    "        'sal': 35.,\n",
    "        'K0': 0.05855,\n",
    "        'K1': 8.279e-7,\n",
    "        'K2': 4.475e-10,\n",
    "        'KW': 6.068e-15,\n",
    "        'KB': 1.349e-9,\n",
    "        'KspC': 7.76e-7,\n",
    "        'KspA': 1.2e-6,\n",
    "        'vol': 1.25e18}"
   ]
  },
  {
   "cell_type": "code",
   "execution_count": 19,
   "metadata": {},
   "outputs": [],
   "source": [
    "# carbon system approximations\n",
    "def calc_CO3(DIC, TA):\n",
    "    return TA - DIC\n",
    "\n",
    "def calc_HCO3(DIC, TA):\n",
    "    return 2 * DIC - TA\n",
    "\n",
    "def calc_pCO2(CO3, HCO3, K0, K1, K2):\n",
    "    return K2 * HCO3**2 / (K1 * K0 * CO3)\n",
    "\n",
    "def calc_H(CO3, HCO3, K2):\n",
    "    return K2 * HCO3 / CO3"
   ]
  },
  {
   "cell_type": "code",
   "execution_count": 20,
   "metadata": {},
   "outputs": [],
   "source": [
    "def dPO4_deep(PO4_deep, PO4_surf, vmix, tau, vol_surf, vol_deep):\n",
    "    return (vmix * PO4_surf -\n",
    "            vmix * PO4_deep + \n",
    "            (PO4_surf * vol_surf / tau)) / vol_deep\n",
    "\n",
    "def dPO4_surf(PO4_deep, PO4_surf, vmix, tau, vol_surf):\n",
    "    return (vmix * PO4_deep -\n",
    "            vmix * PO4_surf -\n",
    "            (PO4_surf * vol_surf / tau)) / vol_surf"
   ]
  },
  {
   "cell_type": "code",
   "execution_count": 23,
   "metadata": {},
   "outputs": [],
   "source": [
    "def zero_fn(X, total_PO4, vmix, tau, vol_surf, vol_deep):\n",
    "    PO4_deep, PO4_surf = X\n",
    "    \n",
    "    # calculate deltas to minimise\n",
    "    d_deep = dPO4_deep(PO4_deep, PO4_surf, vmix, \n",
    "                       tau, vol_surf, vol_deep)\n",
    "    d_surf = dPO4_surf(PO4_deep, PO4_surf, vmix, tau, vol_surf)\n",
    "    \n",
    "    # calculate total PO4\n",
    "    calc_total = ((PO4_deep * vol_deep + PO4_surf * vol_surf) /\n",
    "                  (vol_deep + vol_surf))\n",
    "    # make sure it's the same as actual\n",
    "    PO4_constraint = (total_PO4 - calc_total)**2\n",
    "    \n",
    "    # return value to minimise\n",
    "    return (d_deep**2 + d_surf**2 + PO4_constraint)"
   ]
  },
  {
   "cell_type": "code",
   "execution_count": 24,
   "metadata": {},
   "outputs": [
    {
     "data": {
      "text/plain": [
       "array([2.52107531, 0.48915034])"
      ]
     },
     "execution_count": 24,
     "metadata": {},
     "output_type": "execute_result"
    }
   ],
   "source": [
    "guess = (1, 1)\n",
    "args = (total_PO4, vmix, tau, surf['vol'], deep['vol'])\n",
    "\n",
    "fit = minimize(zero_fn, guess, args=args)\n",
    "\n",
    "fit.x"
   ]
  },
  {
   "cell_type": "code",
   "execution_count": 26,
   "metadata": {},
   "outputs": [],
   "source": [
    "deep['PO4'], surf['PO4'] = fit.x"
   ]
  },
  {
   "cell_type": "code",
   "execution_count": 28,
   "metadata": {},
   "outputs": [],
   "source": [
    "def calc_DIC_surf(PO4_deep, PO4_surf, percent_CaCO3, DIC_total):\n",
    "    delta_PO4 = PO4_deep - PO4_surf\n",
    "    \n",
    "    organic = 106 * delta_PO4\n",
    "    CaCO3 = 106 * percent_CaCO3 * delta_PO4 / 100\n",
    "    \n",
    "    return DIC_total - organic - CaCO3\n",
    "\n",
    "def calc_TA_surf(PO4_deep, PO4_surf, percent_CaCO3, TA_total):\n",
    "    delta_PO4 = PO4_deep - PO4_surf\n",
    "    \n",
    "    organic = 0.15 * 106 * delta_PO4\n",
    "    CaCO3 = 2 * 106 * percent_CaCO3 * delta_PO4 / 100\n",
    "    \n",
    "    return TA_total - organic - CaCO3"
   ]
  },
  {
   "cell_type": "code",
   "execution_count": 31,
   "metadata": {},
   "outputs": [],
   "source": [
    "surf['DIC'] = calc_DIC_surf(deep['PO4'], surf['PO4'], percent_CaCO3, total_DIC)\n",
    "surf['TA'] = calc_TA_surf(deep['PO4'], surf['PO4'], percent_CaCO3, total_TA)\n",
    "\n",
    "deep['DIC'] = total_DIC #+ ((total_DIC - hilat_surf['DIC']) * hilat_surf['vol'] + (total_DIC - lolat_surf['DIC']) * lolat_surf['vol']) / deep['vol']\n",
    "deep['TA'] = total_TA #+ ((total_TA - hilat_surf['TA']) * hilat_surf['vol'] + (total_TA - lolat_surf['TA']) * lolat_surf['vol']) / deep['vol']"
   ]
  },
  {
   "cell_type": "code",
   "execution_count": null,
   "metadata": {},
   "outputs": [],
   "source": []
  }
 ],
 "metadata": {
  "kernelspec": {
   "display_name": "py3",
   "language": "python",
   "name": "py3"
  },
  "language_info": {
   "codemirror_mode": {
    "name": "ipython",
    "version": 3
   },
   "file_extension": ".py",
   "mimetype": "text/x-python",
   "name": "python",
   "nbconvert_exporter": "python",
   "pygments_lexer": "ipython3",
   "version": "3.8.5"
  }
 },
 "nbformat": 4,
 "nbformat_minor": 4
}
