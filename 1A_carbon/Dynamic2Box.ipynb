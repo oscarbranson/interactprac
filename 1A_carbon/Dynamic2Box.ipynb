{
 "cells": [
  {
   "cell_type": "code",
   "execution_count": 1,
   "metadata": {},
   "outputs": [],
   "source": [
    "import numpy as np\n",
    "import pandas as pd\n",
    "import matplotlib.pyplot as plt\n",
    "\n",
    "import cbsyst as cb"
   ]
  },
  {
   "cell_type": "code",
   "execution_count": 66,
   "metadata": {},
   "outputs": [],
   "source": [
    "# model parameters\n",
    "\n",
    "# mixing\n",
    "vmix = 6.3072e14  # m3 yr-1\n",
    "# vmix = 1.2e15  # m3 yr-1\n",
    "\n",
    "# productivity\n",
    "tau = 5\n",
    "\n",
    "percent_CaCO3 = 10\n",
    "\n",
    "# ocean averages\n",
    "total_PO4 = 2.5\n",
    "total_DIC = 2140\n",
    "total_TA = 2400\n",
    "\n",
    "total_Ca = 10.2e-3  # mol kg"
   ]
  },
  {
   "cell_type": "code",
   "execution_count": 67,
   "metadata": {},
   "outputs": [],
   "source": [
    "# set up boxes\n",
    "surf = {'temp': 25.,\n",
    "        'sal': 35.,\n",
    "        'K0': .0285,\n",
    "        'K1': 1.45e-6,\n",
    "        'K2': 1.102e-9,\n",
    "        'KW': 5.982e-14,\n",
    "        'KB': 2.619e-9,\n",
    "        'KspC': 4.2658e-7,\n",
    "        'KspA': 6.45654e-7,\n",
    "        'vol': 1.31e16}\n",
    "\n",
    "deep = {'temp': 2.0,\n",
    "        'sal': 35.,\n",
    "        'K0': 0.05855,\n",
    "        'K1': 8.279e-7,\n",
    "        'K2': 4.475e-10,\n",
    "        'KW': 6.068e-15,\n",
    "        'KB': 1.349e-9,\n",
    "        'KspC': 7.76e-7,\n",
    "        'KspA': 1.2e-6,\n",
    "        'vol': 1.25e18}"
   ]
  },
  {
   "cell_type": "code",
   "execution_count": 68,
   "metadata": {},
   "outputs": [],
   "source": [
    "def dPO4_deep(PO4_deep, PO4_surf, vmix, tau, vol_surf, vol_deep):\n",
    "    return (vmix * (PO4_surf - PO4_deep) + \n",
    "            (PO4_surf * vol_surf / tau)) / vol_deep\n",
    "\n",
    "def dPO4_surf(PO4_deep, PO4_surf, vmix, tau, vol_surf):\n",
    "    return (vmix * (PO4_deep - PO4_surf) -\n",
    "            (PO4_surf * vol_surf / tau)) / vol_surf"
   ]
  },
  {
   "cell_type": "code",
   "execution_count": 69,
   "metadata": {},
   "outputs": [],
   "source": [
    "def calc_DIC_surf(PO4_deep, PO4_surf, percent_CaCO3, DIC_total):\n",
    "    delta_PO4 = PO4_deep - PO4_surf\n",
    "    \n",
    "    organic = 106 * delta_PO4\n",
    "    CaCO3 = 106 * percent_CaCO3 * delta_PO4 / 100\n",
    "    \n",
    "    return DIC_total - organic - CaCO3\n",
    "\n",
    "def calc_TA_surf(PO4_deep, PO4_surf, percent_CaCO3, TA_total):\n",
    "    delta_PO4 = PO4_deep - PO4_surf\n",
    "    \n",
    "    organic = 0.15 * 106 * delta_PO4\n",
    "    CaCO3 = 2 * 106 * percent_CaCO3 * delta_PO4 / 100\n",
    "    \n",
    "    return TA_total - organic - CaCO3"
   ]
  },
  {
   "cell_type": "code",
   "execution_count": 70,
   "metadata": {},
   "outputs": [],
   "source": [
    "PO4_deep = 2.52\n",
    "PO4_surf = 0.1"
   ]
  },
  {
   "cell_type": "code",
   "execution_count": 71,
   "metadata": {},
   "outputs": [],
   "source": [
    "tstep = 2\n",
    "tmax = 1000\n",
    "\n",
    "t = np.arange(0, tmax, tstep)\n",
    "\n",
    "xPO4deep = np.zeros(t.shape)\n",
    "xPO4surf = np.zeros(t.shape)\n",
    "\n",
    "xPO4deep[0] = PO4_deep\n",
    "xPO4surf[0] = PO4_surf\n",
    "\n",
    "for i in range(len(t)):\n",
    "    if i + 2 > len(t):\n",
    "        break\n",
    "    xPO4deep[i + 1] = xPO4deep[i] + tstep * dPO4_deep(xPO4deep[i], xPO4surf[i], vmix, tau, surf['vol'], deep['vol'])\n",
    "    xPO4surf[i + 1] = xPO4surf[i] + tstep * dPO4_surf(xPO4deep[i], xPO4surf[i], vmix, tau, surf['vol'])\n",
    "    \n",
    "xDICsurf = calc_DIC_surf(xPO4deep, xPO4surf, percent_CaCO3, total_DIC)\n",
    "xTAsurf = calc_DIC_surf(xPO4deep, xPO4surf, percent_CaCO3, total_TA)\n",
    "\n",
    "cs = cb.Csys(DIC=xDICsurf, TA=xTAsurf, T_in=surf['temp'], S_in=surf['sal'])"
   ]
  },
  {
   "cell_type": "code",
   "execution_count": 72,
   "metadata": {},
   "outputs": [
    {
     "data": {
      "text/plain": [
       "[<matplotlib.lines.Line2D at 0x7f497b6c72e0>]"
      ]
     },
     "execution_count": 72,
     "metadata": {},
     "output_type": "execute_result"
    },
    {
     "data": {
      "image/png": "[encoded data removed]",
      "text/plain": [
       "<Figure size 432x288 with 1 Axes>"
      ]
     },
     "metadata": {
      "needs_background": "light"
     },
     "output_type": "display_data"
    }
   ],
   "source": [
    "plt.plot(t, xPO4deep)\n",
    "\n",
    "plt.plot(t, xPO4surf)"
   ]
  },
  {
   "cell_type": "code",
   "execution_count": 73,
   "metadata": {},
   "outputs": [
    {
     "data": {
      "text/plain": [
       "[<matplotlib.lines.Line2D at 0x7f497b5251c0>]"
      ]
     },
     "execution_count": 73,
     "metadata": {},
     "output_type": "execute_result"
    },
    {
     "data": {
      "image/png": "[encoded data removed]",
      "text/plain": [
       "<Figure size 432x288 with 1 Axes>"
      ]
     },
     "metadata": {
      "needs_background": "light"
     },
     "output_type": "display_data"
    }
   ],
   "source": [
    "plt.plot(t, xDICsurf)\n",
    "plt.plot(t, xTAsurf)"
   ]
  },
  {
   "cell_type": "code",
   "execution_count": 74,
   "metadata": {},
   "outputs": [
    {
     "data": {
      "text/plain": [
       "[<matplotlib.lines.Line2D at 0x7f497b4f3dc0>]"
      ]
     },
     "execution_count": 74,
     "metadata": {},
     "output_type": "execute_result"
    },
    {
     "data": {
      "image/png": "[encoded data removed]",
      "text/plain": [
       "<Figure size 432x288 with 1 Axes>"
      ]
     },
     "metadata": {
      "needs_background": "light"
     },
     "output_type": "display_data"
    }
   ],
   "source": [
    "plt.plot(t, cs.pCO2)"
   ]
  },
  {
   "cell_type": "code",
   "execution_count": null,
   "metadata": {},
   "outputs": [],
   "source": []
  }
 ],
 "metadata": {
  "kernelspec": {
   "display_name": "py3",
   "language": "python",
   "name": "py3"
  },
  "language_info": {
   "codemirror_mode": {
    "name": "ipython",
    "version": 3
   },
   "file_extension": ".py",
   "mimetype": "text/x-python",
   "name": "python",
   "nbconvert_exporter": "python",
   "pygments_lexer": "ipython3",
   "version": "3.8.5"
  }
 },
 "nbformat": 4,
 "nbformat_minor": 4
}
